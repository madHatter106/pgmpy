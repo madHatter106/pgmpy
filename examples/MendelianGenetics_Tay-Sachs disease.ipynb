{
 "cells": [
  {
   "cell_type": "code",
   "execution_count": 64,
   "metadata": {
    "collapsed": true
   },
   "outputs": [],
   "source": [
    "from pgmpy.models import BayesianModel\n",
    "from pgmpy.factors.discrete import TabularCPD\n",
    "import networkx as nx\n",
    "import matplotlib.pyplot as pl\n",
    "import numpy as np\n",
    "from pgmpy.inference import VariableElimination"
   ]
  },
  {
   "cell_type": "code",
   "execution_count": 41,
   "metadata": {
    "collapsed": true
   },
   "outputs": [],
   "source": [
    "% matplotlib inline"
   ]
  },
  {
   "cell_type": "markdown",
   "metadata": {},
   "source": [
    "<pre>\n",
    "\n",
    "Tay-Sachs disease (allele t, recessive)\n",
    "0: TT, 1: Tt, 2: tt\n",
    "            \n",
    "P(IG):\n",
    "+----------+----------+-----------+-----------+\n",
    "|    IG    |     0    |     1     |      2    |\n",
    "+----------+----------+-----------+-----------+\n",
    "|          |    0.6   |    0.35   |    0.05   |\n",
    "+----------+----------+-----------+-----------+\n",
    "\n",
    "P(RG):\n",
    "+----------+----------+-----------+-----------+\n",
    "|    RG    |     0    |     1     |      2    |\n",
    "+----------+----------+-----------+-----------+\n",
    "|          |    0.6   |    0.35   |    0.05   |\n",
    "+----------+----------+-----------+-----------+\n",
    "\n",
    "P(IP | IG ):\n",
    "+----------+----------+-----------+-----------+\n",
    "|   IG     |     0    |     1     |      2    |\n",
    "+----------+----------+-----------+-----------+\n",
    "|  IP = 0  |     1    |     1     |     0     |\n",
    "+----------+----------+-----------+-----------+\n",
    "|  IP = 1  |     0    |     0     |     1     |\n",
    "+----------+----------+-----------+-----------+\n",
    "\n",
    "P(RP | RG ):\n",
    "+----------+----------+-----------+-----------+\n",
    "|   RG     |     0    |     1     |      2    |\n",
    "+----------+----------+-----------+-----------+\n",
    "|  RP = 0  |     1    |     1     |     0     |\n",
    "+----------+----------+-----------+-----------+\n",
    "|  RP = 1  |     0    |     0     |     1     |\n",
    "+----------+----------+-----------+-----------+\n",
    "\n",
    "P(JG | IG, RG):\n",
    "+------+------+------+------+------+------+------+------+------+------+\n",
    "|  IG  |          0         |          1         |          2         |\n",
    "+------+------+------+------+------+------+------+------+------+------+\n",
    "|  RG  |   0  |   1  |   2  |   0  |   1  |   2  |   0  |   1  |   2  |\n",
    "+------+------+------+------+------+------+------+------+------+------+\n",
    "|  J=0 |  1.0 | 0.5  | 0.0  |  0.5 | 0.25 |  0.0 |  0.0 |  0.0 |  0.0 |\n",
    "+------+------+------+------+------+------+------+------+------+------+\n",
    "|  J=1 |  0.0 | 0.5  | 1.0  |  0.5 | 0.50 |  0.5 |  1.0 | 0.5  |  0.0 |\n",
    "+------+------+------+------+------+------+------+------+------+------+\n",
    "|  J=2 |  0.0 |  0.0 |  0.0 |  0.0 | 0.25 |  0.5 |  0.0 |  0.5 |  1.0 |\n",
    "+------+------+------+------+------+------+------+------+------+------+\n",
    "\n",
    "P(JP | JG ):\n",
    "+----------+----------+-----------+-----------+\n",
    "|   JG     |     0    |     1     |      2    |\n",
    "+----------+----------+-----------+-----------+\n",
    "|  JP = 0  |     1    |     1     |     0     |\n",
    "+----------+----------+-----------+-----------+\n",
    "|  JP = 1  |     0    |     0     |     1     |\n",
    "+----------+----------+-----------+-----------+\n",
    "\n",
    "</pre>"
   ]
  },
  {
   "cell_type": "code",
   "execution_count": 2,
   "metadata": {
    "collapsed": true
   },
   "outputs": [],
   "source": [
    "model=BayesianModel()"
   ]
  },
  {
   "cell_type": "code",
   "execution_count": 23,
   "metadata": {
    "collapsed": true
   },
   "outputs": [],
   "source": [
    "nodes = ['Ira_gtyp','Rob_gtyp','Rob_ptyp','Ira_ptyp','Jms_gtyp',\n",
    "                     'Jms_ptyp']\n",
    "\n",
    "model.add_nodes_from(nodes)"
   ]
  },
  {
   "cell_type": "code",
   "execution_count": 24,
   "metadata": {
    "collapsed": false
   },
   "outputs": [],
   "source": [
    "model.add_edges_from([('Ira_gtyp','Ira_ptyp'),('Ira_gtyp','Jms_gtyp'),\n",
    "                     ('Rob_gtyp','Rob_ptyp'),('Rob_gtyp','Jms_gtyp'),\n",
    "                     ('Jms_gtyp','Jms_ptyp')])"
   ]
  },
  {
   "cell_type": "code",
   "execution_count": 25,
   "metadata": {
    "collapsed": false
   },
   "outputs": [
    {
     "data": {
      "text/plain": [
       "[('Jms_gtyp', 'Jms_ptyp'),\n",
       " ('Rob_gtyp', 'Jms_gtyp'),\n",
       " ('Rob_gtyp', 'Rob_ptyp'),\n",
       " ('Ira_gtyp', 'Jms_gtyp'),\n",
       " ('Ira_gtyp', 'Ira_ptyp')]"
      ]
     },
     "execution_count": 25,
     "metadata": {},
     "output_type": "execute_result"
    }
   ],
   "source": [
    "model.edges()"
   ]
  },
  {
   "cell_type": "code",
   "execution_count": 28,
   "metadata": {
    "collapsed": false
   },
   "outputs": [
    {
     "data": {
      "text/plain": [
       "['Jms_gtyp', 'Rob_ptyp', 'Rob_gtyp', 'Ira_ptyp', 'Ira_gtyp', 'Jms_ptyp']"
      ]
     },
     "execution_count": 28,
     "metadata": {},
     "output_type": "execute_result"
    }
   ],
   "source": [
    "model.nodes()"
   ]
  },
  {
   "cell_type": "code",
   "execution_count": 46,
   "metadata": {
    "collapsed": false
   },
   "outputs": [],
   "source": [
    "positions={'Ira_gtyp': np.array([0.35, 0.6]),\n",
    "          'Ira_ptyp': np.array([0.15, 0.5]),\n",
    "          'Rob_gtyp': np.array([0.65, .6]),\n",
    "          'Rob_ptyp': np.array([0.85, 0.5]),\n",
    "          'Jms_gtyp': np.array([0.5, 0.45]),\n",
    "          'Jms_ptyp': np.array([0.5, 0.3])}"
   ]
  },
  {
   "cell_type": "code",
   "execution_count": 48,
   "metadata": {
    "collapsed": false
   },
   "outputs": [
    {
     "data": {
      "image/png": "[encoded data removed]",
      "text/plain": [
       "<matplotlib.figure.Figure at 0x7fb24e013eb8>"
      ]
     },
     "metadata": {},
     "output_type": "display_data"
    }
   ],
   "source": [
    "f = pl.figure(figsize=(6,6))\n",
    "ax = f.add_subplot(111)\n",
    "nx.draw_networkx(model,pos=positions,node_size=1700, ax=ax, node_color='gray', font_size=8)"
   ]
  },
  {
   "cell_type": "code",
   "execution_count": 55,
   "metadata": {
    "collapsed": true
   },
   "outputs": [],
   "source": [
    "# Mendelian inheritance\n",
    "mend_cpd_Ira_gtype = TabularCPD('Ira_gtyp', 3, [[0.6, 0.35, 0.05]])\n",
    "mend_cpd_Rob_gtype = TabularCPD('Rob_gtyp', 3, [[0.6, 0.35, 0.05]])\n",
    "mend_cpd_Rob_ptype = TabularCPD('Rob_ptyp', 2, [[1, 1, 0], [0, 0, 1]],\n",
    "                                evidence=['Rob_gtyp'], evidence_card=[3])\n",
    "mend_cpd_Ira_ptype = TabularCPD('Ira_ptyp', 2, [[1, 1, 0], [0, 0, 1]],\n",
    "                                evidence=['Ira_gtyp'], evidence_card=[3])"
   ]
  },
  {
   "cell_type": "code",
   "execution_count": 59,
   "metadata": {
    "collapsed": false
   },
   "outputs": [],
   "source": [
    "mend_cpd_Jms_gtype = TabularCPD('Jms_gtyp', 3, [[1.0, 0.5, 0.0, 0.5, 0.25, 0.0, 0.0, 0.0, 0.0],\n",
    "                                                [0.0, 0.5, 1.0, 0.5, 0.50, 0.5, 1.0, 0.5, 0.0],\n",
    "                                                [0.0, 0.0, 0.0, 0.0, 0.25, 0.5, 0.0, 0.5, 1.0]],\n",
    "                               evidence=['Ira_gtyp', 'Rob_gtyp'], evidence_card=[3, 3])"
   ]
  },
  {
   "cell_type": "code",
   "execution_count": 60,
   "metadata": {
    "collapsed": true
   },
   "outputs": [],
   "source": [
    "mend_cpd_Jms_ptype = TabularCPD('Jms_ptyp', 2, [[1, 1, 0], [0, 0, 1]],\n",
    "                                 evidence=['Jms_gtyp'], evidence_card=[3])"
   ]
  },
  {
   "cell_type": "code",
   "execution_count": 61,
   "metadata": {
    "collapsed": false
   },
   "outputs": [
    {
     "name": "stderr",
     "output_type": "stream",
     "text": [
      "WARNING:root:Replacing existing CPD for Ira_gtyp\n",
      "WARNING:root:Replacing existing CPD for Rob_gtyp\n",
      "WARNING:root:Replacing existing CPD for Jms_gtyp\n",
      "WARNING:root:Replacing existing CPD for Ira_ptyp\n",
      "WARNING:root:Replacing existing CPD for Rob_ptyp\n"
     ]
    }
   ],
   "source": [
    "model.add_cpds(mend_cpd_Ira_gtype, mend_cpd_Rob_gtype, mend_cpd_Jms_gtype, \n",
    "               mend_cpd_Ira_ptype, mend_cpd_Rob_ptype, mend_cpd_Jms_ptype)"
   ]
  },
  {
   "cell_type": "code",
   "execution_count": 62,
   "metadata": {
    "collapsed": false
   },
   "outputs": [
    {
     "data": {
      "text/plain": [
       "True"
      ]
     },
     "execution_count": 62,
     "metadata": {},
     "output_type": "execute_result"
    }
   ],
   "source": [
    "model.check_model()"
   ]
  },
  {
   "cell_type": "code",
   "execution_count": 63,
   "metadata": {
    "collapsed": false
   },
   "outputs": [
    {
     "data": {
      "text/plain": [
       "[<TabularCPD representing P(Ira_gtyp:3) at 0x7fb24dffc7b8>,\n",
       " <TabularCPD representing P(Rob_gtyp:3) at 0x7fb24dffc5f8>,\n",
       " <TabularCPD representing P(Jms_gtyp:3 | Ira_gtyp:3, Rob_gtyp:3) at 0x7fb24e07ecf8>,\n",
       " <TabularCPD representing P(Ira_ptyp:2 | Ira_gtyp:3) at 0x7fb24dedf438>,\n",
       " <TabularCPD representing P(Rob_ptyp:2 | Rob_gtyp:3) at 0x7fb24dedf940>,\n",
       " <TabularCPD representing P(Jms_ptyp:2 | Jms_gtyp:3) at 0x7fb24dbea748>]"
      ]
     },
     "execution_count": 63,
     "metadata": {},
     "output_type": "execute_result"
    }
   ],
   "source": [
    "model.get_cpds()"
   ]
  },
  {
   "cell_type": "code",
   "execution_count": 65,
   "metadata": {
    "collapsed": true
   },
   "outputs": [],
   "source": [
    "infer = VariableElimination(model)"
   ]
  },
  {
   "cell_type": "code",
   "execution_count": 68,
   "metadata": {
    "collapsed": true
   },
   "outputs": [],
   "source": [
    "posterior_p = infer.query(['Jms_gtyp'], evidence={'Ira_ptyp': 0, 'Rob_ptyp': 1})"
   ]
  },
  {
   "cell_type": "code",
   "execution_count": 70,
   "metadata": {
    "collapsed": false
   },
   "outputs": [
    {
     "name": "stdout",
     "output_type": "stream",
     "text": [
      "╒════════════╤═════════════════╕\n",
      "│ Jms_gtyp   │   phi(Jms_gtyp) │\n",
      "╞════════════╪═════════════════╡\n",
      "│ Jms_gtyp_0 │          0.0000 │\n",
      "├────────────┼─────────────────┤\n",
      "│ Jms_gtyp_1 │          0.8158 │\n",
      "├────────────┼─────────────────┤\n",
      "│ Jms_gtyp_2 │          0.1842 │\n",
      "╘════════════╧═════════════════╛\n"
     ]
    }
   ],
   "source": [
    "print(posterior_p['Jms_gtyp'])"
   ]
  },
  {
   "cell_type": "code",
   "execution_count": 71,
   "metadata": {
    "collapsed": true
   },
   "outputs": [],
   "source": [
    "posterior_p_evidential = infer.query(['Rob_ptyp','Ira_ptyp'], evidence={'Jms_ptyp':1})"
   ]
  },
  {
   "cell_type": "code",
   "execution_count": 74,
   "metadata": {
    "collapsed": false
   },
   "outputs": [
    {
     "name": "stdout",
     "output_type": "stream",
     "text": [
      "╒════════════╤═════════════════╕\n",
      "│ Rob_ptyp   │   phi(Rob_ptyp) │\n",
      "╞════════════╪═════════════════╡\n",
      "│ Rob_ptyp_0 │          0.7778 │\n",
      "├────────────┼─────────────────┤\n",
      "│ Rob_ptyp_1 │          0.2222 │\n",
      "╘════════════╧═════════════════╛\n",
      "╒════════════╤═════════════════╕\n",
      "│ Ira_ptyp   │   phi(Ira_ptyp) │\n",
      "╞════════════╪═════════════════╡\n",
      "│ Ira_ptyp_0 │          0.7778 │\n",
      "├────────────┼─────────────────┤\n",
      "│ Ira_ptyp_1 │          0.2222 │\n",
      "╘════════════╧═════════════════╛\n"
     ]
    }
   ],
   "source": [
    "print(posterior_p_evidential['Rob_ptyp'])\n",
    "print(posterior_p_evidential['Ira_ptyp'])"
   ]
  },
  {
   "cell_type": "code",
   "execution_count": 75,
   "metadata": {
    "collapsed": true
   },
   "outputs": [],
   "source": [
    "posterior_p_evidential = infer.query(['Rob_gtyp','Ira_gtyp'], evidence={'Jms_ptyp':1})"
   ]
  },
  {
   "cell_type": "code",
   "execution_count": 76,
   "metadata": {
    "collapsed": false
   },
   "outputs": [
    {
     "name": "stdout",
     "output_type": "stream",
     "text": [
      "╒════════════╤═════════════════╕\n",
      "│ Rob_gtyp   │   phi(Rob_gtyp) │\n",
      "╞════════════╪═════════════════╡\n",
      "│ Rob_gtyp_0 │          0.0000 │\n",
      "├────────────┼─────────────────┤\n",
      "│ Rob_gtyp_1 │          0.7778 │\n",
      "├────────────┼─────────────────┤\n",
      "│ Rob_gtyp_2 │          0.2222 │\n",
      "╘════════════╧═════════════════╛\n",
      "╒════════════╤═════════════════╕\n",
      "│ Ira_gtyp   │   phi(Ira_gtyp) │\n",
      "╞════════════╪═════════════════╡\n",
      "│ Ira_gtyp_0 │          0.0000 │\n",
      "├────────────┼─────────────────┤\n",
      "│ Ira_gtyp_1 │          0.7778 │\n",
      "├────────────┼─────────────────┤\n",
      "│ Ira_gtyp_2 │          0.2222 │\n",
      "╘════════════╧═════════════════╛\n"
     ]
    }
   ],
   "source": [
    "print(posterior_p_evidential['Rob_gtyp'])\n",
    "print(posterior_p_evidential['Ira_gtyp'])"
   ]
  },
  {
   "cell_type": "code",
   "execution_count": null,
   "metadata": {
    "collapsed": true
   },
   "outputs": [],
   "source": []
  }
 ],
 "metadata": {
  "kernelspec": {
   "display_name": "Python [conda root]",
   "language": "python",
   "name": "conda-root-py"
  },
  "language_info": {
   "codemirror_mode": {
    "name": "ipython",
    "version": 3
   },
   "file_extension": ".py",
   "mimetype": "text/x-python",
   "name": "python",
   "nbconvert_exporter": "python",
   "pygments_lexer": "ipython3",
   "version": "3.5.2"
  }
 },
 "nbformat": 4,
 "nbformat_minor": 1
}
